{
 "cells": [
  {
   "cell_type": "markdown",
   "metadata": {},
   "source": [
    "### **分为x为标量或者向量，y为标量或者向量四种情况计算导数**"
   ]
  },
  {
   "cell_type": "markdown",
   "metadata": {},
   "source": [
    "\n",
    "**情况一：x为标量，y为标量**\n",
    "\n",
    "在这种情况下，我们有一个单变量函数 y = f(x)，其中 x 和 y 都是标量（单个数值）。此时，函数的导数是 y 对 x 的变化率。\n",
    "\n",
    "1. 导数（y对x的导数）：\n",
    "   导数表示函数 y = f(x) 在某一点 x 的斜率或切线的斜率，可以用极限的概念表示为：\n",
    "\n",
    "$$\\frac{dy}{dx} = \\lim_{h \\to 0} \\frac{f(x + h) - f(x)}{h}$$\n",
    "\n",
    "2. 梯度：\n",
    "   在这种情况下，由于 x 和 y 都是标量，梯度与导数等价。梯度是一个标量，表示函数 y = f(x) 在 x 点的变化率。"
   ]
  },
  {
   "cell_type": "markdown",
   "metadata": {},
   "source": [
    "**情况二：x为标量，y为向量**\n",
    "\n",
    "在这种情况下，我们有一个单变量函数 $\\mathbf{y} = f(x)$，其中 x 是标量，y 是一个向量（包含多个数值）。此时，函数的导数是向量 y 对 x 的变化率。\n",
    "\n",
    "1. 导数（y对x的导数）：\n",
    "   导数表示函数 $\\mathbf{y} = f(x)$ 在某一点 x 的斜率或切线的斜率。**由于 y 是向量，所以导数也是一个向量**，表示 y 各个分量对 x 的变化率。可以用极限的概念表示为：\n",
    "\n",
    "$$\\frac{d\\mathbf{y}}{dx} = \\lim_{h \\to 0} \\frac{f(x + h) - f(x)}{h}$$\n",
    "\n",
    "2. 梯度：\n",
    "   在这种情况下，梯度与导数等价。**梯度是一个向量**，表示函数 $\\mathbf{y} = f(x)$ 在 x 点的变化率。梯度的每个分量表示 y 各个分量对 x 的变化率。\n",
    "\n",
    "> <table><tr><td bgcolor=#FF00FF>注意此时的结果是一个列向量</td></tr></table>"
   ]
  },
  {
   "cell_type": "markdown",
   "metadata": {},
   "source": [
    "**情况三：x为向量，y为标量**\n",
    "\n",
    "在这种情况下，我们有一个多变量函数 y = f($\\mathbf{x}$)，其中 x 是一个向量，y 是标量。此时，函数的导数是标量 y 对向量 x 的变化率。\n",
    "\n",
    "1. 导数（y对x的导数，也称梯度）：\n",
    "   导数表示函数 y = f($\\mathbf{x}$) 在某一点 x 的变化率。**由于 y 是标量，所以导数是一个向量，表示 y 对 x 各个分量的变化率**。可以用偏导数的概念表示为：\n",
    "\n",
    "$$\\nabla f(\\mathbf{x}) = \\left[\\frac{\\partial f}{\\partial x_1}, \\frac{\\partial f}{\\partial x_2}, ..., \\frac{\\partial f}{\\partial x_n}\\right]$$\n",
    "\n",
    "> <table><tr><td bgcolor=#FF00FF>注意此时的x是一个列向量，结果是一个行向量</td></tr></table>\n",
    "\n",
    "![20230731144416](https://cdn.jsdelivr.net/gh/Corner430/Picture1/images/20230731144416.png)"
   ]
  },
  {
   "cell_type": "markdown",
   "metadata": {},
   "source": [
    "**情况四：x为向量，y为向量**\n",
    "\n",
    "在这种情况下，我们有一个多变量函数 $\\mathbf{y} = f(\\mathbf{x})$，其中 x 和 y 都是向量。此时，函数的导数是向量 y 对向量 x 的变化率。\n",
    "\n",
    "1. 导数（y对x的导数，也称**雅可比矩阵**）：\n",
    "   导数表示函数 $\\mathbf{y} = f(\\mathbf{x})$ 在某一点 x 的变化率。**由于 y 和 x 都是向量，所以导数是一个矩阵，称为雅可比矩阵**，表示 y 对 x 各个分量的变化率。**雅可比矩阵的每个元素是 y 各个分量对 x 各个分量的偏导数**。\n",
    "\n",
    "$$\\mathbf{J} = \\begin{bmatrix} \\frac{\\partial y_1}{\\partial x_1} & \\frac{\\partial y_1}{\\partial x_2} & \\cdots & \\frac{\\partial y_1}{\\partial x_n} \\\\ \\frac{\\partial y_2}{\\partial x_1} & \\frac{\\partial y_2}{\\partial x_2} & \\cdots & \\frac{\\partial y_2}{\\partial x_n} \\\\ \\vdots & \\vdots & \\ddots & \\vdots \\\\ \\frac{\\partial y_m}{\\partial x_1} & \\frac{\\partial y_m}{\\partial x_2} & \\cdots & \\frac{\\partial y_m}{\\partial x_n} \\end{bmatrix}$$\n",
    "\n",
    "   其中，m 是向量 y 的维度，n 是向量 x 的维度。"
   ]
  },
  {
   "cell_type": "markdown",
   "metadata": {},
   "source": [
    "\n",
    "![20230731145514](https://cdn.jsdelivr.net/gh/Corner430/Picture1/images/20230731145514.png)"
   ]
  },
  {
   "cell_type": "markdown",
   "metadata": {},
   "source": [
    "--------------------------------------------"
   ]
  },
  {
   "cell_type": "markdown",
   "metadata": {},
   "source": [
    "> 梯度方向跟等高线正交，也就是说梯度是往值变得最大的方向去走"
   ]
  },
  {
   "cell_type": "markdown",
   "metadata": {},
   "source": [
    "\n",
    "![20230731144810](https://cdn.jsdelivr.net/gh/Corner430/Picture1/images/20230731144810.png)\n",
    "\n",
    "也就是说分子是列向量，结果就是列向量；分子为标量，结果就是行向量。"
   ]
  },
  {
   "cell_type": "markdown",
   "metadata": {},
   "source": [
    "\n",
    "![20230731144954](https://cdn.jsdelivr.net/gh/Corner430/Picture1/images/20230731144954.png)"
   ]
  },
  {
   "cell_type": "markdown",
   "metadata": {},
   "source": [
    "> 需要补一下分子布局、分母布局的相关知识"
   ]
  }
 ],
 "metadata": {
  "language_info": {
   "name": "python"
  },
  "orig_nbformat": 4
 },
 "nbformat": 4,
 "nbformat_minor": 2
}
