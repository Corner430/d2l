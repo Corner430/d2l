{
 "cells": [
  {
   "cell_type": "markdown",
   "metadata": {},
   "source": [
    "### **[更多的芯片](https://www.bilibili.com/video/BV1VV41147PC/?spm_id_from=autoNext&vd_source=2dd00fcea46a9c5a26706a99eb12ea3f)**"
   ]
  },
  {
   "cell_type": "markdown",
   "metadata": {},
   "source": [
    "### **DSP：数字信号处理**\n",
    "- 为数字信号处理算法设计：点积，卷积，FFT\n",
    "- **低功耗**、高性能\n",
    "  - 比移动 GPU 快 5x，功耗更低\n",
    "- VLIW：Very long instruction word\n",
    "  - 一条指令计算上百次乘累加\n",
    "- 编程和调试困难\n",
    "- 编译器质量良莠不齐"
   ]
  },
  {
   "cell_type": "markdown",
   "metadata": {},
   "source": [
    "### **可编程阵列（FPGA）**\n",
    "- 有大量可以编程逻辑单元和可配置的连接\n",
    "- 可以配置成计算复杂函数\n",
    "  - 编程语言：VHDL，Verilog\n",
    "- 通常比通用硬件更高效\n",
    "- 工具链质量良莠不齐\n",
    "- 一次 “编译” 需要数小时"
   ]
  },
  {
   "cell_type": "markdown",
   "metadata": {},
   "source": [
    "### **AI ASIC（Application-Specific Integrated Circuit）**\n",
    "- 深度学习的热门领域\n",
    "  - 大公司都在造自己的芯片（Intel, Qualcomm, Google, Amazon, Facebook, ...）\n",
    "- **Google TPU 是标志性芯片**\n",
    "  - 能够媲美 Nvidia GPU 性能\n",
    "  - 在 Google 大量部署\n",
    "  - 核心是 **systolic array**"
   ]
  },
  {
   "cell_type": "markdown",
   "metadata": {},
   "source": [
    "### **[Systolic Array](https://www.bilibili.com/video/BV1VV41147PC/?share_source=copy_web&vd_source=a7ae9163cb2cd121bfd86ea1f4ecd2ef&t=1058)**\n",
    "- 计算单元（PE）阵列\n",
    "- 特别适合做**矩阵乘法**\n",
    "- 设计和制造相对简单\n",
    "\n",
    "![Systolic Array](img/Systolic%20Array.png)"
   ]
  },
  {
   "cell_type": "markdown",
   "metadata": {},
   "source": [
    "### **[Systolic Array的矩阵乘法](https://www.bilibili.com/video/BV1VV41147PC/?share_source=copy_web&vd_source=a7ae9163cb2cd121bfd86ea1f4ecd2ef&t=1163)**"
   ]
  },
  {
   "cell_type": "markdown",
   "metadata": {},
   "source": [
    "### **[Systolic Array](https://www.bilibili.com/video/BV1VV41147PC/?share_source=copy_web&vd_source=a7ae9163cb2cd121bfd86ea1f4ecd2ef&t=1482)**\n",
    "- 对于一般的矩阵乘法，通过切开和填充来匹配 SA 大小\n",
    "- 批量输入来降低延时\n",
    "- 通常有其他硬件单元来处理别的 NN 操作子，例如激活层"
   ]
  },
  {
   "cell_type": "markdown",
   "metadata": {},
   "source": [
    "### **[总结](https://www.bilibili.com/video/BV1VV41147PC/?share_source=copy_web&vd_source=a7ae9163cb2cd121bfd86ea1f4ecd2ef&t=1656)**"
   ]
  }
 ],
 "metadata": {
  "language_info": {
   "name": "python"
  },
  "orig_nbformat": 4
 },
 "nbformat": 4,
 "nbformat_minor": 2
}
