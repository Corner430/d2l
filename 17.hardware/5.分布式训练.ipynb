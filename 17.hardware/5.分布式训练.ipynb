{
 "cells": [
  {
   "cell_type": "markdown",
   "metadata": {},
   "source": [
    "### **[分布式计算](https://www.bilibili.com/video/BV1jU4y1G7iu/?share_source=copy_web&vd_source=a7ae9163cb2cd121bfd86ea1f4ecd2ef&t=184)**\n",
    "- 数据放在分布式文件系统上\n",
    "- 多台机器，每台机器上面有多个 GPU  (多个 worker)\n",
    "- 多个参数服务器\n",
    "- 通过网络读取数据\n",
    "- 通过网络发送参数"
   ]
  },
  {
   "cell_type": "markdown",
   "metadata": {},
   "source": [
    "### **[GPU 机器架构](https://www.bilibili.com/video/BV1jU4y1G7iu/?share_source=copy_web&vd_source=a7ae9163cb2cd121bfd86ea1f4ecd2ef&t=194)**"
   ]
  },
  {
   "cell_type": "markdown",
   "metadata": {},
   "source": [
    "### **[计算一个小批量](https://www.bilibili.com/video/BV1jU4y1G7iu/?share_source=copy_web&vd_source=a7ae9163cb2cd121bfd86ea1f4ecd2ef&t=350)**\n",
    "- 每个计算服务器读取小批量中的一块\n",
    "- 每个 worker 从参数服务器那里获取参数模型\n",
    "- 每个 GPU 计算梯度\n",
    "- 将所有 GPU 上的梯度求和\n",
    "- 梯度传回服务器\n",
    "- 每个服务器对梯度求和，并更新参数"
   ]
  },
  {
   "cell_type": "markdown",
   "metadata": {},
   "source": [
    "### **同步 SGD**\n",
    "- 这里每个 worker 都是同步计算一个批量，称为同步 SGD\n",
    "- 假设有 n 个 GPU，每个 GPU 每次处理 b 个样本，那么同步 SGD 等价于在单 GPU 运行批量大小为 nb 的 SGD\n",
    "- 在理想情况下，n 个 GPU 可以得到相对单 GPU 的 n 倍加速"
   ]
  },
  {
   "cell_type": "markdown",
   "metadata": {},
   "source": [
    "### **性能**\n",
    "- $t_1$ = 在单 GPU 上计算 b 个样本梯度时间\n",
    "- 假设有 m 个参数，一个 worker 每次发送和接收 m 个参数、梯度\n",
    "  - $t_2$ = 发送和接收所用时间\n",
    "- 每个批量的计算时间为 $max(t_1, t_2)$\n",
    "  - 选取足够大的 b 使得 $t_1 > t_2$\n",
    "  - 增加 b 或 n 导致更大的批量大小，导致需要更多计算来得到给定的模型精度"
   ]
  },
  {
   "cell_type": "markdown",
   "metadata": {},
   "source": [
    "### **[性能的权衡](https://www.bilibili.com/video/BV1jU4y1G7iu/?share_source=copy_web&vd_source=a7ae9163cb2cd121bfd86ea1f4ecd2ef&t=847)**"
   ]
  },
  {
   "cell_type": "markdown",
   "metadata": {},
   "source": [
    "### **实践时的建议**\n",
    "- 使用一个大数据集\n",
    "- 需要好的 GPU-GPU 和 机器-机器 带宽\n",
    "- 高效的数据读取和预处理\n",
    "- 模型需要有好的计算（FLOP）通讯（model size）比\n",
    "  - Inception > ResNet > AlexNet\n",
    "- 使用足够大的批量大小来得到好的系统性能\n",
    "- 使用高效的优化算法对应大批量大小"
   ]
  }
 ],
 "metadata": {
  "kernelspec": {
   "display_name": "d2l",
   "language": "python",
   "name": "python3"
  },
  "language_info": {
   "codemirror_mode": {
    "name": "ipython",
    "version": 3
   },
   "file_extension": ".py",
   "mimetype": "text/x-python",
   "name": "python",
   "nbconvert_exporter": "python",
   "pygments_lexer": "ipython3",
   "version": "3.9.17"
  },
  "orig_nbformat": 4
 },
 "nbformat": 4,
 "nbformat_minor": 2
}
