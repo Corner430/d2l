{
 "cells": [
  {
   "cell_type": "markdown",
   "metadata": {},
   "source": [
    "### **[CPU 和 GPU](https://www.bilibili.com/video/BV1TU4y1j7Wd/?spm_id_from=333.788.recommend_more_video.2&vd_source=2dd00fcea46a9c5a26706a99eb12ea3f)**"
   ]
  },
  {
   "cell_type": "markdown",
   "metadata": {},
   "source": [
    "### **Interl i7-6700K**\n",
    "\n",
    "![Interl i7-6700K](img/Inter%20i7-6700K.png)"
   ]
  },
  {
   "cell_type": "markdown",
   "metadata": {},
   "source": [
    "### **提升CPU利用率 I**\n",
    "- 在计算 a + b 之前，需要准备数据\n",
    "  - 主内存 -> L3 -> L2 -> L1 -> 寄存器\n",
    "    - L1 访问延时： 0.5ns\n",
    "    - L2 访问延时： 7ns（14 x L1）\n",
    "    - 主内存访问延时： 100ns（200 x L1）\n",
    "- 提升空间和时间的内存本地性\n",
    "  - 时间：重用数据使得保持它们在缓存里\n",
    "  - 空间：按序读写数据使得可以预读取"
   ]
  },
  {
   "cell_type": "markdown",
   "metadata": {},
   "source": [
    "### **样例分析**\n",
    "- 如果一个矩阵是按行存储，访问一行会比访问一列要快\n",
    "  - CPU 一次读取 64 字节（缓存线）\n",
    "  - CPU 会 “聪明的” 提前读取下一个（缓存线）\n",
    "\n",
    "![样例分析](img/样例分析.png)"
   ]
  },
  {
   "cell_type": "markdown",
   "metadata": {},
   "source": [
    "### **提升 CPU 利用率 Ⅱ**\n",
    "- 高端 CPU 有几十个核\n",
    "  - EC2 P3.16xlarge: 2 Intel Xeon CPUs, 32 物理核\n",
    "- 并行来利用所有核\n",
    "  - **超线程不一定提升性能，因为它们共享寄存器**"
   ]
  },
  {
   "cell_type": "markdown",
   "metadata": {},
   "source": [
    "### **样例分析**\n",
    "- 上面比下面慢（python）\n",
    "```python\n",
    "for i in range(len(a)):\n",
    "    c[i] = a[i] + b[i]\n",
    "\n",
    "c = a + b\n",
    "```\n",
    "\n",
    "- 上边调用 n 次函数，每次调用有开销\n",
    "- 下面很容易被并行（例如下面 C++ 实现）\n",
    "\n",
    "```c++\n",
    "#pragma omp for\n",
    "for (i=0; i<a.size(); i++){\n",
    "    c[i] = a[i] + b[i]\n",
    "}\n",
    "```"
   ]
  },
  {
   "cell_type": "markdown",
   "metadata": {},
   "source": [
    "### **Nvidia Titan X（Pascal）**\n",
    "\n",
    "![Nvidia Titan X (Pascal)](img/Nvidia%20Titan%20X(Pascal).png)"
   ]
  },
  {
   "cell_type": "markdown",
   "metadata": {},
   "source": [
    "### **[CPU vs GPU](https://www.bilibili.com/video/BV1TU4y1j7Wd/?share_source=copy_web&vd_source=a7ae9163cb2cd121bfd86ea1f4ecd2ef&t=1178)**"
   ]
  },
  {
   "cell_type": "markdown",
   "metadata": {},
   "source": [
    "### **提升 GPU 利用率**\n",
    "- 并行\n",
    "  - **使用数千个线程**，向量需要上千维度\n",
    "- **内存本地性**\n",
    "  - 缓存更小，架构更加简单\n",
    "- **少用控制语句**\n",
    "  - 支持有限\n",
    "  - 同步开销很大"
   ]
  },
  {
   "cell_type": "markdown",
   "metadata": {},
   "source": [
    "### **[CPU/GPU 带宽](https://www.bilibili.com/video/BV1TU4y1j7Wd/?share_source=copy_web&vd_source=a7ae9163cb2cd121bfd86ea1f4ecd2ef&t=1755)**\n",
    "- **不要频繁在 CPU 和 GPU 之间传输数据**：带宽限制，同步开销"
   ]
  },
  {
   "cell_type": "markdown",
   "metadata": {},
   "source": [
    "### **更多的 CPUs 和 GPUs**\n",
    "- CPU: AMD, ARM\n",
    "- GPU: AMD, Intel, ARM, Qualcomm ..."
   ]
  },
  {
   "cell_type": "markdown",
   "metadata": {},
   "source": [
    "### **CPU/GPU高性能计算编程**\n",
    "- CPU：C++ 或者任何高性能语言\n",
    "  - 编译器成熟\n",
    "- GPU\n",
    "  - Nvidia 上用 CUDA\n",
    "    - 编译器和驱动成熟\n",
    "  - 其他用 OpenCL\n",
    "    - 质量取决于硬件厂商"
   ]
  },
  {
   "cell_type": "markdown",
   "metadata": {},
   "source": [
    "### **总结**\n",
    "- CPU：可以处理通用计算。性能优化考虑数据读写效率和多线程\n",
    "- GPU：使用更多的小核和更好的内存带宽，适合能大规模并行的计算任务"
   ]
  }
 ],
 "metadata": {
  "kernelspec": {
   "display_name": "d2l",
   "language": "python",
   "name": "python3"
  },
  "language_info": {
   "codemirror_mode": {
    "name": "ipython",
    "version": 3
   },
   "file_extension": ".py",
   "mimetype": "text/x-python",
   "name": "python",
   "nbconvert_exporter": "python",
   "pygments_lexer": "ipython3",
   "version": "3.9.17"
  },
  "orig_nbformat": 4
 },
 "nbformat": 4,
 "nbformat_minor": 2
}
