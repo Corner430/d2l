{
 "cells": [
  {
   "cell_type": "markdown",
   "metadata": {},
   "source": [
    "### [CPU 和 GPU](https://www.bilibili.com/video/BV1TU4y1j7Wd/?spm_id_from=333.788.recommend_more_video.2&vd_source=2dd00fcea46a9c5a26706a99eb12ea3f)"
   ]
  }
 ],
 "metadata": {
  "language_info": {
   "name": "python"
  },
  "orig_nbformat": 4
 },
 "nbformat": 4,
 "nbformat_minor": 2
}
