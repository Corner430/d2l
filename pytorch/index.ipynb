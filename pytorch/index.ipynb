{
 "cells": [
  {
   "cell_type": "markdown",
   "id": "8e709cee",
   "metadata": {
    "origin_pos": 0
   },
   "source": [
    "《动手学深度学习》\n",
    "========================\n",
    " - [chapter_attention-mechanisms/index](chapter_attention-mechanisms/index.ipynb)\n",
    " - [chapter_optimization/index](chapter_optimization/index.ipynb)\n",
    " - [chapter_natural-language-processing-pretraining/index](chapter_natural-language-processing-pretraining/index.ipynb)\n",
    " - [chapter_natural-language-processing-applications/index](chapter_natural-language-processing-applications/index.ipynb)\n",
    " - [chapter_appendix-tools-for-deep-learning/index](chapter_appendix-tools-for-deep-learning/index.ipynb)\n",
    "\n",
    " - [chapter_references/zreferences](chapter_references/zreferences.ipynb)\n"
   ]
  }
 ],
 "metadata": {
  "language_info": {
   "name": "python"
  }
 },
 "nbformat": 4,
 "nbformat_minor": 5
}
