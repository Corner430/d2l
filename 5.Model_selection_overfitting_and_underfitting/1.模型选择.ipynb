{
 "cells": [
  {
   "cell_type": "markdown",
   "metadata": {},
   "source": [
    "- 验证数据集并不能反正在真实数据上的结果，因为我们可能在验证数据集上调过超参"
   ]
  },
  {
   "cell_type": "markdown",
   "metadata": {},
   "source": [
    "### K-折交叉验证\n",
    "- 在没有足够多数据时使用（这是常态）\n",
    "- 算法：\n",
    "  - 将训练数据分割成K块\n",
    "  - For i in range(K):\n",
    "    - 将第i块作为验证集，其余作为训练集\n",
    "    - 训练模型并在验证集上评估\n",
    "  - 报告 K 个验证集误差的平均\n",
    "- 常用：K=5 或 10"
   ]
  },
  {
   "cell_type": "markdown",
   "metadata": {},
   "source": [
    "--------------------------------------------"
   ]
  },
  {
   "cell_type": "markdown",
   "metadata": {},
   "source": [
    "### 总结\n",
    "- 训练数据集：训练模型参数\n",
    "- 验证数据集：模型选择（超参数调整）\n",
    "- 非大数据集上通常使用 k -折交叉验证"
   ]
  }
 ],
 "metadata": {
  "language_info": {
   "name": "python"
  },
  "orig_nbformat": 4
 },
 "nbformat": 4,
 "nbformat_minor": 2
}
