{
 "cells": [
  {
   "cell_type": "markdown",
   "metadata": {},
   "source": [
    "### 过拟合和欠拟合\n",
    "\n",
    "![20230806214932](https://cdn.jsdelivr.net/gh/Corner430/Picture1/images/20230806214932.png)"
   ]
  },
  {
   "cell_type": "markdown",
   "metadata": {},
   "source": [
    "### 模型容量\n",
    "- 拟合各种函数的能力\n",
    "- 低容量的模型难以拟合训练数据\n",
    "- 高容量的模型可以记住所有的训练数据"
   ]
  },
  {
   "cell_type": "markdown",
   "metadata": {},
   "source": [
    "### 模型容量的影响\n",
    "\n",
    "![](img/capacity-vs-error.svg)"
   ]
  },
  {
   "cell_type": "markdown",
   "metadata": {},
   "source": [
    "### 估计模型容量\n",
    "- 难以在不同的种类算法之间比较\n",
    "  - 例如树模型和神经网络\n",
    "- 给定一个模型种类，将有两个主要因素\n",
    "  - 参数的个数\n",
    "  - 参数值的选择范围"
   ]
  },
  {
   "cell_type": "markdown",
   "metadata": {},
   "source": [
    "### VC维\n",
    "- 统计学习理论的一个核心思想\n",
    "- 对于一个分类模型，VC等于一个最大的数据集的大小，不管如何给定标号，都存在一个模型来对它进行完美分类"
   ]
  },
  {
   "cell_type": "markdown",
   "metadata": {},
   "source": [
    "### 线性分类器的VC维\n",
    "- 2 维输入的感知机，VC维为3\n",
    "  - [能够分类任何三个点，但不是4个（xor）](https://www.bilibili.com/video/BV1kX4y1g7jp/?p=2&share_source=copy_web&vd_source=a7ae9163cb2cd121bfd86ea1f4ecd2ef&t=747)\n",
    "- 支持N维输入的感知机的VC维为N+1\n",
    "- 一些多层感知机的VC维$O(Nlog_2N)$"
   ]
  },
  {
   "cell_type": "markdown",
   "metadata": {},
   "source": [
    "### VC 维的用处\n",
    "- 提供为什么一个模型好的理论依据\n",
    "  - 它可以衡量训练误差和泛化误差之间的间隔\n",
    "- 但深度学习中很少使用\n",
    "  - 衡量不是很准确\n",
    "  - 计算深度学习模型的 VC 维很困难"
   ]
  },
  {
   "cell_type": "markdown",
   "metadata": {},
   "source": [
    "### 数据复杂度\n",
    "- 多个重要因素\n",
    "  - 样本个数\n",
    "  - 每个样本的元素个数\n",
    "  - 时间、空间结构\n",
    "  - 多样性"
   ]
  },
  {
   "cell_type": "markdown",
   "metadata": {},
   "source": [
    "### 总结\n",
    "- 模型容量需要匹配数据复杂度，否则可能导致欠拟合和过拟合\n",
    "- 统计机器学习提供数学工具来衡量模型复杂度\n",
    "- 实际中一般靠观察训练误差和验证误差"
   ]
  }
 ],
 "metadata": {
  "language_info": {
   "name": "python"
  },
  "orig_nbformat": 4
 },
 "nbformat": 4,
 "nbformat_minor": 2
}
