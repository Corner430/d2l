{
 "cells": [
  {
   "cell_type": "markdown",
   "metadata": {},
   "source": [
    "### **多个输入通道**\n",
    "\n",
    "- 彩色图像可能有 RGB 三个通道\n",
    "- 转换为灰度会丢失信息"
   ]
  },
  {
   "cell_type": "markdown",
   "metadata": {},
   "source": [
    "- **每个通道都有一个卷积核，结果是所有通道卷积结果的和**\n",
    "\n",
    "![两个输入通道的互相关计算](img/conv-multi-in.svg)\n",
    "\n",
    "$(1\\times1+2\\times2+4\\times3+5\\times4)+(0\\times0+1\\times1+3\\times2+4\\times3)=56$"
   ]
  },
  {
   "cell_type": "markdown",
   "metadata": {},
   "source": [
    "- 输入 $X: c_i \\times n_h \\times n_w$\n",
    "- 核 $W: c_i \\times k_h \\times k_w$\n",
    "- 输出 $Y: m_h \\times m_w$\n",
    "\n",
    "$$ Y = \\sum_{i=0}^{c_i} X_{i,:,:} \\star W_{i,:,:} $$"
   ]
  },
  {
   "cell_type": "markdown",
   "metadata": {},
   "source": [
    "### **多个输出通道**\n",
    "\n",
    "- 无论有多少输入通道，到目前为止我们只用到单输出通道\n",
    "- 我们可以有多个三维卷积核，每个核生成一个输出通道\n",
    "- 输入 $X: c_i \\times n_h \\times n_w$\n",
    "- 核 $W: c_o \\times c_i \\times k_h \\times k_w$\n",
    "- 输出 $Y: c_o \\times m_h \\times m_w$\n",
    "\n",
    "$$Y_{i,:,:} = X \\star W_{i,:,:,:} \\qquad \\textbf{for} \\quad i = 1,...,c_o$$"
   ]
  },
  {
   "cell_type": "markdown",
   "metadata": {},
   "source": [
    "### **多个输入和输出通道**\n",
    "\n",
    "- **每个输出通道可以识别特定模式**\n",
    "\n",
    "- **输入通道核识别并组合输入中的模式**"
   ]
  },
  {
   "cell_type": "markdown",
   "metadata": {},
   "source": [
    "### **1 x 1卷积层**\n",
    "\n",
    "$k_h = k_w = 1$ 是一个受欢迎的选择。它**不识别空间模式，只是融合通道**\n",
    "\n",
    "![互相关计算使用了具有3个输入通道和2个输出通道的 $1\\times 1$ 卷积核。其中，输入和输出具有相同的高度和宽度](img/conv-1x1.svg)\n",
    "\n",
    "**相当于输入形状为 $n_h n_w \\times c_i$，权重为 $c_o \\times c_i$ 的全连接层**"
   ]
  },
  {
   "cell_type": "markdown",
   "metadata": {},
   "source": [
    "### **二维卷积层**\n",
    "\n",
    "- 输入 $X: c_i \\times n_h \\times n_w$\n",
    "- 核 $W: c_o \\times c_i \\times k_h \\times k_w$\n",
    "- 偏差 $B: c_o \\times c_i$\n",
    "- 输出 $Y: c_o \\times m_h \\times m_w$\n",
    "\n",
    "$ Y = X \\star W + B $\n",
    "\n",
    "- 计算复杂度（浮点计算数 FLOP） $O(c_i c_o k_h k_w m_h m_w)$\n",
    "\n",
    "\\begin{align*}\n",
    "c_i &= c_o = 100 \\\\\n",
    "k_h &= k_w = 5 \\qquad \\Rightarrow \\qquad 1\\text{ G FLOP}\\\\\n",
    "m_h &= m_w = 64\n",
    "\\end{align*}\n",
    "\n",
    "- 10层，1 M样本，10 PFLops\n",
    "\n",
    "(CPU: 0.15 TF = 18h, CPU: 12 TF = 14min)"
   ]
  },
  {
   "cell_type": "markdown",
   "metadata": {},
   "source": [
    "### **总结**\n",
    "- 输出通道数是卷积层的超参数\n",
    "- 每个输入通道有独立的二维卷积核，所有通道结果相加得到一个输出通道结果\n",
    "- 每个输出通道有独立的三维卷积核"
   ]
  }
 ],
 "metadata": {
  "language_info": {
   "name": "python"
  },
  "orig_nbformat": 4
 },
 "nbformat": 4,
 "nbformat_minor": 2
}
