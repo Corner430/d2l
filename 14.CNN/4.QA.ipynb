{
 "cells": [
  {
   "cell_type": "markdown",
   "metadata": {},
   "source": [
    "- 训练抖动问题\n",
    "    - 扩大`batch_size`\n",
    "    - 调整学习率"
   ]
  }
 ],
 "metadata": {
  "language_info": {
   "name": "python"
  },
  "orig_nbformat": 4
 },
 "nbformat": 4,
 "nbformat_minor": 2
}
