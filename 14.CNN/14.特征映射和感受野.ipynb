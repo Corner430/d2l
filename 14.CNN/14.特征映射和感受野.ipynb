{
 "cells": [
  {
   "cell_type": "markdown",
   "metadata": {},
   "source": [
    "- 输出的卷积层有时称为**特征映射（feature map）**，因为它可以被视为一个输入映射到下一层的空间维度的转换器。"
   ]
  },
  {
   "cell_type": "markdown",
   "metadata": {},
   "source": [
    "- 在卷积神经网络中，对于某一层的任意元素 x，**其感受野（receptive field）是指**在前向传播期间可能影响 x 计算的所有元素（来自所有之前层）"
   ]
  },
  {
   "cell_type": "markdown",
   "metadata": {},
   "source": [
    "- 当需要检测更大区域的输入特征时，我们可以构建一个**更深**的卷积网络"
   ]
  }
 ],
 "metadata": {
  "language_info": {
   "name": "python"
  },
  "orig_nbformat": 4
 },
 "nbformat": 4,
 "nbformat_minor": 2
}
