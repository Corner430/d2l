{
 "cells": [
  {
   "cell_type": "markdown",
   "metadata": {},
   "source": [
    "- **通道数通常不变，但是高和宽会逐渐减小，此时会改变通道数。例如高宽减半，通道数翻倍，这是一种转换信息的方式。**"
   ]
  },
  {
   "cell_type": "markdown",
   "metadata": {},
   "source": [
    "- padding 0 对模型结果可以认为不造成影响"
   ]
  },
  {
   "cell_type": "markdown",
   "metadata": {},
   "source": [
    "- **每个通道的卷积核是一样的，不同通道的卷积核不一样**"
   ]
  },
  {
   "cell_type": "markdown",
   "metadata": {},
   "source": [
    "- 卷积可以获取位置信息，并且很敏感"
   ]
  }
 ],
 "metadata": {
  "language_info": {
   "name": "python"
  },
  "orig_nbformat": 4
 },
 "nbformat": 4,
 "nbformat_minor": 2
}
