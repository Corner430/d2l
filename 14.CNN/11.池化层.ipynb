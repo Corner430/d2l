{
 "cells": [
  {
   "cell_type": "markdown",
   "metadata": {},
   "source": [
    "### **池化层**\n",
    "\n",
    "- 卷积对位置敏感\n",
    "  - [检测垂直边缘](https://www.bilibili.com/video/BV1EV411j7nX/?share_source=copy_web&vd_source=a7ae9163cb2cd121bfd86ea1f4ecd2ef&t=8)\n",
    "\n",
    "- 需要一定程度的平移不变性\n",
    "  - 照明，物体位置，比例，外观等等因图像而异"
   ]
  },
  {
   "cell_type": "markdown",
   "metadata": {},
   "source": [
    "### **二维最大池化**\n",
    "\n",
    "- 返回滑动窗口中的最大值\n",
    "\n",
    "![汇聚窗口形状为 $2\\times 2$ 的最大汇聚层。着色部分是第一个输出元素，以及用于计算这个输出的输入元素: $\\max(0, 1, 3, 4)=4$.](img/pooling.svg)\n",
    "\n",
    "$\\max(0, 1, 3, 4)=4$\n",
    "\n",
    "- **[垂直边缘检测](https://www.bilibili.com/video/BV1EV411j7nX/?share_source=copy_web&vd_source=a7ae9163cb2cd121bfd86ea1f4ecd2ef&t=313)：可容 1 像素移位**"
   ]
  },
  {
   "cell_type": "markdown",
   "metadata": {},
   "source": [
    "### **填充，步幅和多个通道**\n",
    "\n",
    "- 池化层和卷积层类似，都具有填充和步幅\n",
    "- **没有可学习的参数**\n",
    "- 在每个输入通道应用池化层以获得相应的输出通道\n",
    "- **输出通道数 = 输入通道数**"
   ]
  },
  {
   "cell_type": "markdown",
   "metadata": {},
   "source": [
    "### **平均池化层**\n",
    "\n",
    "- 最大池化层：每个窗口中最强的模式信号\n",
    "- 平均池化层：将最大池化层中的“最大”操作替换为“平均”\n",
    "- [可视化效果](https://www.bilibili.com/video/BV1EV411j7nX/?share_source=copy_web&vd_source=a7ae9163cb2cd121bfd86ea1f4ecd2ef&t=499)"
   ]
  },
  {
   "cell_type": "markdown",
   "metadata": {},
   "source": [
    "### **总结**\n",
    "\n",
    "- 池化层返回窗口中最大或平均值\n",
    "- 缓解卷积层对位置的敏感性\n",
    "- 同样有窗口大小、填充和步幅等超参数"
   ]
  }
 ],
 "metadata": {
  "language_info": {
   "name": "python"
  },
  "orig_nbformat": 4
 },
 "nbformat": 4,
 "nbformat_minor": 2
}
