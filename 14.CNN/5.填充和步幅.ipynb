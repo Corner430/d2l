{
 "cells": [
  {
   "cell_type": "markdown",
   "metadata": {},
   "source": [
    "### **填充**\n",
    "- 给定 (32 * 32) 输入图像\n",
    "- 应用 5 * 5 大小的卷积核\n",
    "  - 第 1 层得到输出大小为 28 * 28\n",
    "  - 第 7 层得到输出大小为 4 * 4\n",
    "- 更大的卷积核可以更快的减少输出大小\n",
    "  - 形状从 $n_h \\times n_w$ 变为 $(n_h - k_h + 1) \\times (n_w - k_w + 1)$"
   ]
  },
  {
   "cell_type": "markdown",
   "metadata": {},
   "source": [
    "在输入周围添加额外的行/列\n",
    "\n",
    "![带填充的二维互相关](img/conv-pad.svg)\n",
    "\n",
    "$0 \\times 0 + 0 \\times 1 + 0 \\times 2 + 0 \\times 3 = 0$"
   ]
  },
  {
   "cell_type": "markdown",
   "metadata": {},
   "source": [
    "- 填充 $p_h$ 行和 $p_w$ 列，输出形状为\n",
    "$$(n_h - k_h + p_h + 1) \\times (n_w - k_w + p_w + 1)$$\n",
    "\n",
    "- **通常取 $p_h = k_h - 1$ 和 $p_w = k_w - 1$，这样输入和输出的高和宽一致**\n",
    "    - 当 $k_h$ 为**奇数**时，在上下两侧填充 $p_h / 2$\n",
    "    - 当 $k_h$ 为**偶数**时，在上侧填充 $\\lceil p_h / 2 \\rceil$，在下侧填充 $\\lfloor p_h / 2 \\rfloor$\n",
    "    - **很少取偶数**"
   ]
  },
  {
   "cell_type": "markdown",
   "metadata": {},
   "source": [
    "------------------------------------"
   ]
  },
  {
   "cell_type": "markdown",
   "metadata": {},
   "source": [
    "### **步幅**\n",
    "\n",
    "- **填充减小的输出大小与层数线性相关**\n",
    "    - 给定输入大小 224x224，在使用 5x5 卷积核的情况下，需要 55 层卷积层才能得到 4x4 的输出\n",
    "    - 需要大量计算才能得到较小输出"
   ]
  },
  {
   "cell_type": "markdown",
   "metadata": {},
   "source": [
    "- 步幅是指行/列的滑动步长\n",
    "  - 例：高度3 宽度2 的步幅\n",
    "\n",
    "![垂直步幅为 $3$，水平步幅为 $2$ 的二维互相关运算](img/conv-stride.svg)\n",
    "\n",
    "$0\\times0+0\\times1+1\\times2+2\\times3=8$\n",
    "\n",
    "$0\\times0+6\\times1+0\\times2+0\\times3=6$"
   ]
  },
  {
   "cell_type": "markdown",
   "metadata": {},
   "source": [
    "- 给定高度 $s_h$ 和宽度 $s_w$ 的步幅，输出形状是\n",
    "$$\\lfloor (n_h - k_h + p_h + s_h) / s_h \\rfloor \\times \\lfloor (n_w - k_w + p_w + s_w) / (s_w) \\rfloor$$\n",
    "\n",
    "- 如果 $p_h = k_h - 1$，$p_w = k_w - 1$\n",
    "$$\\lfloor (n_h + s_h - 1) / s_h \\rfloor \\times \\lfloor (n_w + s_w - 1) / (s_w) \\rfloor$$\n",
    "\n",
    "- 如果输入高度和宽度可以被步幅整除\n",
    "$$ (n_h / s_h) \\times (n_w / s_w)$$"
   ]
  },
  {
   "cell_type": "markdown",
   "metadata": {},
   "source": [
    "### **总结**\n",
    "\n",
    "- 填充和步幅是卷积层的超参数\n",
    "- **填充**在输入周围添加额外的行/列，**来控制输出形状的减少量**\n",
    "- **步幅**是在每次滑动核窗口时的行/列的步长，**可以成倍的减少输出形状**"
   ]
  }
 ],
 "metadata": {
  "language_info": {
   "name": "python"
  },
  "orig_nbformat": 4
 },
 "nbformat": 4,
 "nbformat_minor": 2
}
