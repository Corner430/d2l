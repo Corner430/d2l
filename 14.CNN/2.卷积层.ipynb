{
 "cells": [
  {
   "cell_type": "markdown",
   "metadata": {},
   "source": [
    "![20230814150523](https://cdn.jsdelivr.net/gh/Corner430/Picture1/images/20230814150523.png)"
   ]
  },
  {
   "cell_type": "markdown",
   "metadata": {},
   "source": [
    "### 二维**交叉相关**\n",
    "\n",
    "![二维互相关运算。阴影部分是第一个输出元素，以及用于计算输出的输入张量元素和核张量元素：$0\\times0+1\\times1+3\\times2+4\\times3=19$.](img/correlation.svg)\n",
    "\n",
    "在**二维互相关运算**中，卷积窗口从输入张量的左上角开始，从左到右、从上到下**滑动**。当卷积窗口滑动到新一个位置时，包含在该窗口中的部分张量与卷积核张量进行**按元素**相乘，**得到的张量再求和得到一个单一的标量值**，由此我们得出了这一位置的输出张量值。在如上例子中，输出张量的四个元素由二维互相关运算得到，这个输出高度为$2$、宽度为$2$，如下所示：\n",
    "\n",
    "$$\n",
    "0\\times0+1\\times1+3\\times2+4\\times3=19,\\\\\n",
    "1\\times0+2\\times1+4\\times2+5\\times3=25,\\\\\n",
    "3\\times0+4\\times1+6\\times2+7\\times3=37,\\\\\n",
    "4\\times0+5\\times1+7\\times2+8\\times3=43.\n",
    "$$"
   ]
  },
  {
   "cell_type": "markdown",
   "metadata": {},
   "source": [
    "### 二维**卷积层**\n",
    "\n",
    "![二维互相关运算。阴影部分是第一个输出元素，以及用于计算输出的输入张量元素和核张量元素：$0\\times0+1\\times1+3\\times2+4\\times3=19$.](img/correlation.svg)\n",
    "\n",
    "- 输入$X:n_h\\times n_w$\n",
    "- 核$W:k_h\\times k_w$\n",
    "- 偏差$b \\in \\mathbb{R}$\n",
    "- 输出$Y:(n_h-k_h+1)\\times(n_w-k_w+1)$\n",
    "$$Y = X \\star W + b$$\n",
    "- $W$和$b$是**可学习参数**"
   ]
  },
  {
   "cell_type": "markdown",
   "metadata": {},
   "source": [
    "![20230814152430](https://cdn.jsdelivr.net/gh/Corner430/Picture1/images/20230814152430.png)"
   ]
  },
  {
   "cell_type": "markdown",
   "metadata": {},
   "source": [
    "### **交叉相关 VS 卷积**\n",
    "\n",
    "- 二维交叉相关\n",
    "$$y_{i,j} = \\sum_{a=1}^{h} \\sum_{b=1}^{w} w_{a,b} x_{i+a,j+b}$$\n",
    "\n",
    "- 二维卷积\n",
    "$$y_{i,j} = \\sum_{a=1}^{h} \\sum_{b=1}^{w} w_{-a,-b} x_{i+a,j+b}$$\n",
    "\n",
    "- 由于对称性，在实际使用中没有区别"
   ]
  },
  {
   "cell_type": "markdown",
   "metadata": {},
   "source": [
    "### **一维和三维交叉相关**\n",
    "- 一维\n",
    "  - 文本\n",
    "  - 语言\n",
    "  - 时序序列\n",
    "$$y_{i} = \\sum_{a=1}^{h} w_a x_{i+a}$$\n",
    "\n",
    "- 三维\n",
    "  - 视频\n",
    "  - 医学图像\n",
    "  - 气象地图\n",
    "$$y_{i,j,k} = \\sum_{a=1}^{h} \\sum_{b=1}^{w} \\sum_{c=1}^{d} w_{a,b,c} x_{i+a,j+b,k+c}$$"
   ]
  },
  {
   "cell_type": "markdown",
   "metadata": {},
   "source": [
    "### 总结\n",
    "- 卷积层将输入和核矩阵进行**交叉相关**，加上偏移后得到输出\n",
    "- **核矩阵和偏移都是可学习的参数**\n",
    "- 核矩阵的大小是超参数\n",
    "\n",
    "> **卷积层就是一个特殊的全连接层**"
   ]
  }
 ],
 "metadata": {
  "language_info": {
   "name": "python"
  },
  "orig_nbformat": 4
 },
 "nbformat": 4,
 "nbformat_minor": 2
}
