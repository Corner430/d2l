{
 "cells": [
  {
   "cell_type": "markdown",
   "metadata": {},
   "source": [
    "- 通常来说，顺序为：卷积->池化。**从而减弱卷积对于位置的敏感性**"
   ]
  },
  {
   "cell_type": "markdown",
   "metadata": {},
   "source": [
    "- **池化层能否减少计算量也是依靠 `strides`**"
   ]
  },
  {
   "cell_type": "markdown",
   "metadata": {},
   "source": [
    "- **池化层为什么用的越来越少了？**\n",
    "  1. 池化层可以让卷积对位置不那么敏感，但我们现在进行数据增强，已经可以解决这个问题\n",
    "  2. 池化层可以通过 `strides` 将计算量变小，但是 `strides` 可以放在卷积层里面"
   ]
  }
 ],
 "metadata": {
  "language_info": {
   "name": "python"
  },
  "orig_nbformat": 4
 },
 "nbformat": 4,
 "nbformat_minor": 2
}
