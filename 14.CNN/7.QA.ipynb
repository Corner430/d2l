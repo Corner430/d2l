{
 "cells": [
  {
   "cell_type": "markdown",
   "metadata": {},
   "source": [
    "- kernel_size、padding 和 strides 怎么设置?\n",
    "    - kernel_size通常是 3x3 或 5x5\n",
    "    - padding通常取 `kernel_size - 1`，即输入和输出的大小相同\n",
    "    - strides最好取 1，除非计算量太大了，需要减少输出形状，此时可以考虑让计算复杂度减半，步幅取 2"
   ]
  },
  {
   "cell_type": "markdown",
   "metadata": {},
   "source": [
    "- kernel_size一般选奇数"
   ]
  },
  {
   "cell_type": "markdown",
   "metadata": {},
   "source": [
    "- **NAS 可以让超参数也一起训练**"
   ]
  },
  {
   "cell_type": "markdown",
   "metadata": {},
   "source": [
    "- **机器学习本质上就是在做压缩**，例如分类可以极端理解为把输入压缩成一个标量"
   ]
  },
  {
   "cell_type": "markdown",
   "metadata": {},
   "source": [
    "- autogluon 可以自动调参"
   ]
  }
 ],
 "metadata": {
  "language_info": {
   "name": "python"
  },
  "orig_nbformat": 4
 },
 "nbformat": 4,
 "nbformat_minor": 2
}
