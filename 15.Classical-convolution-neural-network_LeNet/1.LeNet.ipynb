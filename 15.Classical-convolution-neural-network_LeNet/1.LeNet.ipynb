{
 "cells": [
  {
   "cell_type": "markdown",
   "metadata": {},
   "source": [
    "### LeNet\n",
    "\n",
    "总体来看，LeNet（LeNet-5）由**两个部分**组成：\n",
    "\n",
    "* **卷积编码器**：由两个卷积层组成;\n",
    "* **全连接层密集块**：由三个全连接层组成。"
   ]
  },
  {
   "cell_type": "markdown",
   "metadata": {},
   "source": [
    "该架构如图所示：\n",
    "\n",
    "![LeNet中的数据流。输入是手写数字，输出为10种可能结果的概率。](img/lenet.svg)"
   ]
  },
  {
   "cell_type": "markdown",
   "metadata": {},
   "source": [
    "**每个卷积块中的基本单元是一个卷积层、一个 sigmoid 激活函数和平均汇聚层**\n",
    "\n",
    "每个卷积层使用 5 x 5 卷积核和一个 sigmoid 激活函数。这些层将输入映射到多个二维特征输出，通常同时增加通道的数量。第一个卷积层有 6 个输出通道，而第二个卷积层有 16 个输出通道。**每个 2 x 2 汇聚操作（步幅2）通过空间降采样将维数减少 4 倍。卷积层的输出形状由批量大小、通道数、高度、宽度决定**。"
   ]
  },
  {
   "cell_type": "markdown",
   "metadata": {},
   "source": [
    "为了将卷积块的输出传递给稠密块，我们必须在小批量中**展平**每个样本。换言之，我们将这个四维输入转换成全连接层所希望的二维输入。**这里的二维表示的第一个维度索引小批量中的样本，第二个维度给出每个样本的平面向量表示**。"
   ]
  }
 ],
 "metadata": {
  "kernelspec": {
   "display_name": "d2l",
   "language": "python",
   "name": "python3"
  },
  "language_info": {
   "codemirror_mode": {
    "name": "ipython",
    "version": 3
   },
   "file_extension": ".py",
   "mimetype": "text/x-python",
   "name": "python",
   "nbconvert_exporter": "python",
   "pygments_lexer": "ipython3",
   "version": "3.9.17"
  },
  "orig_nbformat": 4
 },
 "nbformat": 4,
 "nbformat_minor": 2
}
