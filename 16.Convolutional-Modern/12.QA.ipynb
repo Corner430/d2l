{
 "cells": [
  {
   "cell_type": "markdown",
   "metadata": {},
   "source": [
    "- d2l 的意思是 \"Dive into Deep Learning\""
   ]
  },
  {
   "cell_type": "markdown",
   "metadata": {},
   "source": [
    "- 为什么 GoogLeNet 这个网络如此有效呢？\n",
    "  - 首先，我们考虑以下滤波器（filter）的组合，他们可以用各种滤波器尺寸探索图像，这意味着不同尺寸的滤波器可以有效地识别不同范围的图像细节。\n",
    "  - 同时，我们可以为不同的滤波器分配不同数量的参数"
   ]
  },
  {
   "cell_type": "markdown",
   "metadata": {},
   "source": [
    "- Inception 块的通道数分配之比是在 ImageNet 数据集上通过大量的实验得来的"
   ]
  }
 ],
 "metadata": {
  "language_info": {
   "name": "python"
  },
  "orig_nbformat": 4
 },
 "nbformat": 4,
 "nbformat_minor": 2
}
