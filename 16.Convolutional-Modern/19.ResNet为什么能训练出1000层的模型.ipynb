{
 "cells": [
  {
   "cell_type": "markdown",
   "metadata": {},
   "source": [
    "[ResNet的梯度计算](https://www.bilibili.com/video/BV1554y157E3/?spm_id_from=autoNext&vd_source=2dd00fcea46a9c5a26706a99eb12ea3f)"
   ]
  }
 ],
 "metadata": {
  "language_info": {
   "name": "python"
  },
  "orig_nbformat": 4
 },
 "nbformat": 4,
 "nbformat_minor": 2
}
