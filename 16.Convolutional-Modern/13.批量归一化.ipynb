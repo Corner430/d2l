{
 "cells": [
  {
   "cell_type": "markdown",
   "metadata": {},
   "source": [
    "### **批量归一化**\n",
    "\n",
    "- **损失出现在最后，后面的层训练较快**\n",
    "- 数据在最底部\n",
    "  - 底部的层训练较慢\n",
    "  - **底部层一变化，所有都得跟着变**\n",
    "  - 最后的那些层需要重新学习多次\n",
    "  - 导致收敛变慢\n",
    "- **我们可以在学习底部层的时候避免变化顶部层吗？**"
   ]
  },
  {
   "cell_type": "markdown",
   "metadata": {},
   "source": [
    "- 固定小批量里面的均值和方差\n",
    "\n",
    "$$\\begin{aligned} \\hat{\\boldsymbol{\\mu}}_\\mathcal{B} &= \\frac{1}{|\\mathcal{B}|} \\sum_{\\mathbf{x} \\in \\mathcal{B}} \\mathbf{x},\\\\\n",
    "\\hat{\\boldsymbol{\\sigma}}_\\mathcal{B}^2 &= \\frac{1}{|\\mathcal{B}|} \\sum_{\\mathbf{x} \\in \\mathcal{B}} (\\mathbf{x} - \\hat{\\boldsymbol{\\mu}}_{\\mathcal{B}})^2 + \\epsilon.\\end{aligned}$$\n",
    "\n",
    "> $\\epsilon$是为了避免分母为0\n",
    "\n",
    "- 然后再做额外的调整（可学习的参数）\n",
    "$$\\mathbf{x}_{i+1} = \\gamma \\frac{\\mathbf{x}_i - \\boldsymbol{\\mu}_\\mathcal{B}}{\\boldsymbol{\\sigma}_\\mathcal{B}} + \\beta$$\n",
    "\n",
    "> **其中$\\gamma$和$\\beta$分别是拉伸和偏移参数，二者都是学习的参数**"
   ]
  },
  {
   "cell_type": "markdown",
   "metadata": {},
   "source": [
    "### **批量归一化层**\n",
    "\n",
    "- 可学习的参数为$\\gamma$和$\\beta$\n",
    "- 作用在\n",
    "  - **全连接层和卷积层输出上，激活函数前**\n",
    "  - **全连接层和卷积层输入上**\n",
    "- 对全连接层，作用在**特征维**\n",
    "- 对于卷积层，作用在**通道维**"
   ]
  },
  {
   "cell_type": "markdown",
   "metadata": {},
   "source": [
    "### **批量归一化在做什么？**\n",
    "- 最初论文是想用它来**减少内部协变量偏移**\n",
    "- 后续有论文指出**它可能就是通过在每个小批量里加入噪音来控制模型复杂度**\n",
    "$$\\mathbf{x}_{i+1} = \\gamma \\frac{\\mathbf{x}_i - \\hat{\\boldsymbol{\\mu}}_\\mathcal{B}}{\\hat{\\boldsymbol{\\sigma}}_\\mathcal{B}} + \\beta$$\n",
    "\n",
    "> 这里的噪音指的是$\\hat{\\boldsymbol{\\mu}}_\\mathcal{B}$和$\\hat{\\boldsymbol{\\sigma}}_\\mathcal{B}$，因为它们来自一个随机的小批量，所以是随机偏移和随机缩放\n",
    "- **因此没必要跟丢弃法混合使用**"
   ]
  },
  {
   "cell_type": "markdown",
   "metadata": {},
   "source": [
    "### **总结**\n",
    "- 批量归一化固定小批量中的均值和方差，然后学习出适合的偏移和缩放\n",
    "- **可以加速收敛速度，但一般不改变模型精度**"
   ]
  }
 ],
 "metadata": {
  "language_info": {
   "name": "python"
  },
  "orig_nbformat": 4
 },
 "nbformat": 4,
 "nbformat_minor": 2
}
