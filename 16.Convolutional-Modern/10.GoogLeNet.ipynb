{
 "cells": [
  {
   "cell_type": "markdown",
   "metadata": {},
   "source": [
    "### **含并行连结的网络（GoogLeNet）**"
   ]
  },
  {
   "cell_type": "markdown",
   "metadata": {},
   "source": [
    "![Inceptionv1 architecture](img/Inceptionv1_architecture.png)"
   ]
  },
  {
   "cell_type": "markdown",
   "metadata": {},
   "source": [
    "### **[最好的卷积层超参数？](https://www.bilibili.com/video/BV1b5411g7Xo/?share_source=copy_web&vd_source=a7ae9163cb2cd121bfd86ea1f4ecd2ef&t=140)**"
   ]
  },
  {
   "cell_type": "markdown",
   "metadata": {},
   "source": [
    "### **Inception块：小学生才做选择题，我全要了**\n",
    "4 个路径从不同层面抽取信息，然后**在输出通道维合并**\n",
    "\n",
    "![Inception块的架构](img/inception.svg)\n",
    "\n",
    "> **输入和输出等同高宽**\n",
    "\n",
    "**[图示通道数](https://www.bilibili.com/video/BV1b5411g7Xo/?share_source=copy_web&vd_source=a7ae9163cb2cd121bfd86ea1f4ecd2ef&t=364)**"
   ]
  },
  {
   "cell_type": "markdown",
   "metadata": {},
   "source": [
    "### **Inception块**\n",
    "跟单 3 x 3 或 5 x 5 的卷积层相比，Inception块有**更少的参数个数和计算复杂度**\n",
    "\n",
    "|  | # parameters | FLOPs |\n",
    "| :---: | :---: | :---: |\n",
    "| **Inception** | 0.16M | 128M |\n",
    "| **3 x 3 Conv** | 0.44M | 346M |\n",
    "| **5 x 5 Conv** | 1.22M | 963M |"
   ]
  },
  {
   "cell_type": "markdown",
   "metadata": {},
   "source": [
    "### **GoogLeNet**\n",
    "- [5段，9个Inception块](https://www.bilibili.com/video/BV1b5411g7Xo/?share_source=copy_web&vd_source=a7ae9163cb2cd121bfd86ea1f4ecd2ef&t=704)\n",
    "\n",
    "![GoogLeNet架构](img/inception-full.svg)"
   ]
  },
  {
   "cell_type": "markdown",
   "metadata": {},
   "source": [
    "### **段 1 & 2**\n",
    "- 更小的宽口，更多的通道\n",
    "\n",
    "![段 1 & 2](img/段1&2.png)"
   ]
  },
  {
   "cell_type": "markdown",
   "metadata": {},
   "source": [
    "![stage 3](img/stage3.png)"
   ]
  }
 ],
 "metadata": {
  "language_info": {
   "name": "python"
  },
  "orig_nbformat": 4
 },
 "nbformat": 4,
 "nbformat_minor": 2
}
