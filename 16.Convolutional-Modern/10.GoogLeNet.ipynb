{
 "cells": [
  {
   "cell_type": "markdown",
   "metadata": {},
   "source": [
    "### **含并行连结的网络（GoogLeNet）**"
   ]
  },
  {
   "cell_type": "markdown",
   "metadata": {},
   "source": [
    "![Inceptionv1 architecture](img/Inceptionv1_architecture.png)"
   ]
  },
  {
   "cell_type": "markdown",
   "metadata": {},
   "source": [
    "### **[最好的卷积层超参数？](https://www.bilibili.com/video/BV1b5411g7Xo/?share_source=copy_web&vd_source=a7ae9163cb2cd121bfd86ea1f4ecd2ef&t=140)**"
   ]
  },
  {
   "cell_type": "markdown",
   "metadata": {},
   "source": [
    "### **Inception块：小学生才做选择题，我全要了**\n",
    "4 个路径从不同层面抽取信息，然后**在输出通道维合并**\n",
    "\n",
    "![Inception块的架构](img/inception.svg)\n",
    "\n",
    "> **输入和输出等同高宽**\n",
    "\n",
    "**[图示通道数](https://www.bilibili.com/video/BV1b5411g7Xo/?share_source=copy_web&vd_source=a7ae9163cb2cd121bfd86ea1f4ecd2ef&t=364)**"
   ]
  },
  {
   "cell_type": "markdown",
   "metadata": {},
   "source": [
    "### **Inception块**\n",
    "跟单 3 x 3 或 5 x 5 的卷积层相比，Inception块有**更少的参数个数和计算复杂度**\n",
    "\n",
    "|  | # parameters | FLOPs |\n",
    "| :---: | :---: | :---: |\n",
    "| **Inception** | 0.16M | 128M |\n",
    "| **3 x 3 Conv** | 0.44M | 346M |\n",
    "| **5 x 5 Conv** | 1.22M | 963M |"
   ]
  },
  {
   "cell_type": "markdown",
   "metadata": {},
   "source": [
    "### **GoogLeNet**\n",
    "- [5段，9个Inception块](https://www.bilibili.com/video/BV1b5411g7Xo/?share_source=copy_web&vd_source=a7ae9163cb2cd121bfd86ea1f4ecd2ef&t=704)\n",
    "\n",
    "![GoogLeNet架构](img/inception-full.svg)"
   ]
  },
  {
   "cell_type": "markdown",
   "metadata": {},
   "source": [
    "### **段 1 & 2**\n",
    "- 更小的宽口，更多的通道\n",
    "\n",
    "![段 1 & 2](img/段1&2.png)"
   ]
  },
  {
   "cell_type": "markdown",
   "metadata": {},
   "source": [
    "![stage 3](img/stage3.png)"
   ]
  },
  {
   "cell_type": "markdown",
   "metadata": {},
   "source": [
    "### **[段 4 & 5](https://www.bilibili.com/video/BV1b5411g7Xo/?share_source=copy_web&vd_source=a7ae9163cb2cd121bfd86ea1f4ecd2ef&t=1150)**"
   ]
  },
  {
   "cell_type": "markdown",
   "metadata": {},
   "source": [
    "### **Inception 有各种后续变种**\n",
    "- Inception-BN (v2) - 使用 batch normalization\n",
    "- Inception-v3 - 修改了 Inception 块\n",
    "    - 替换 5x5 为多个 3x3 卷积层\n",
    "    - 替换 5x5 为 1x7 和 7x1 卷积层\n",
    "    - 替换 3x3 为 1x3 和 3x1 卷积层\n",
    "    - 更深\n",
    "- Inception-V4 - 使用残差连接"
   ]
  },
  {
   "cell_type": "markdown",
   "metadata": {},
   "source": [
    "### **[Inception V3 块，段 3](https://www.bilibili.com/video/BV1b5411g7Xo/?share_source=copy_web&vd_source=a7ae9163cb2cd121bfd86ea1f4ecd2ef&t=1352)**\n",
    "\n",
    "### **[Inception V3 块，段 4](https://www.bilibili.com/video/BV1b5411g7Xo/?share_source=copy_web&vd_source=a7ae9163cb2cd121bfd86ea1f4ecd2ef&t=1363)**\n",
    "\n",
    "### **[Inception V3 块，段 5](https://www.bilibili.com/video/BV1b5411g7Xo/?share_source=copy_web&vd_source=a7ae9163cb2cd121bfd86ea1f4ecd2ef&t=1394)**"
   ]
  },
  {
   "cell_type": "markdown",
   "metadata": {},
   "source": [
    "[Inception V3 可视化结果对比](https://www.bilibili.com/video/BV1b5411g7Xo/?share_source=copy_web&vd_source=a7ae9163cb2cd121bfd86ea1f4ecd2ef&t=1417)\n",
    "\n",
    "![](img/bokeh_plot.png)"
   ]
  },
  {
   "cell_type": "markdown",
   "metadata": {},
   "source": [
    "### **总结**\n",
    "- Inception 块用4条有不同超参数的卷积层和池化层的路来抽取不同的信息\n",
    "  - 它的一个**主要优点是模型参数小，计算复杂度低**\n",
    "  - GoogLeNet 使用了 9 个 Inception 块，是第一个达到上百层的网络\n",
    "    - 后续有一系列改进\n",
    "- 在 Inception 块中，通常调整的超参数是**每层输出通道数**\n",
    "- Inception 块相当于一个有 4 条路径的子网络"
   ]
  }
 ],
 "metadata": {
  "language_info": {
   "name": "python"
  },
  "orig_nbformat": 4
 },
 "nbformat": 4,
 "nbformat_minor": 2
}
