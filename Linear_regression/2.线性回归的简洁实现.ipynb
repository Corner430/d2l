{
 "cells": [
  {
   "cell_type": "markdown",
   "metadata": {},
   "source": [
    "### 线性回归的简洁实现\n",
    "通过实现深度学习框架来简洁地实现线性回归模型生成数据集"
   ]
  },
  {
   "cell_type": "code",
   "execution_count": 23,
   "metadata": {},
   "outputs": [],
   "source": [
    "import numpy as np\n",
    "import torch\n",
    "from torch.utils import data  # 导入包含有关数据加载和处理的工具\n",
    "from d2l import torch as d2l\n",
    "\n",
    "true_w = torch.tensor([2, -3.4])\n",
    "true_b = 4.2\n",
    "features, labels = d2l.synthetic_data(true_w, true_b, 1000)"
   ]
  },
  {
   "cell_type": "code",
   "execution_count": 24,
   "metadata": {},
   "outputs": [
    {
     "data": {
      "text/plain": [
       "[tensor([[ 1.5534,  0.9456],\n",
       "         [ 0.4744, -0.4386],\n",
       "         [-0.7837, -0.6368],\n",
       "         [ 0.2439, -1.2039],\n",
       "         [-1.0646, -0.3751],\n",
       "         [-1.0910,  0.4547],\n",
       "         [ 0.3127,  0.0964],\n",
       "         [ 0.7525,  0.4823],\n",
       "         [ 0.2615,  1.1037],\n",
       "         [ 0.0882, -1.6880]]),\n",
       " tensor([[ 4.0784],\n",
       "         [ 6.6303],\n",
       "         [ 4.7877],\n",
       "         [ 8.7744],\n",
       "         [ 3.3510],\n",
       "         [ 0.4706],\n",
       "         [ 4.4962],\n",
       "         [ 4.0507],\n",
       "         [ 0.9675],\n",
       "         [10.1131]])]"
      ]
     },
     "execution_count": 24,
     "metadata": {},
     "output_type": "execute_result"
    }
   ],
   "source": [
    "# 调用框架中现有的API来读取数据\n",
    "def load_array(data_arrays,\n",
    "               batch_size,\n",
    "               is_train=True):  # 使用该数据迭代器`data_iter`来获取一个批次（batch）的数据\n",
    "    \"\"\"构造一个PyTorch数据迭代器\"\"\"\n",
    "\n",
    "    # 创建一个PyTorch的`TensorDataset`对象\n",
    "    # 并将输入的数据`tensors`（`data_arrays`是一个元组或列表）组合成一个数据集\n",
    "    # 这里的数据`tensors`包括特征`features`和标签`labels`，每个样本的特征和标签都是一个张量。\n",
    "    dataset = data.TensorDataset(*data_arrays)  # 将多个tensor组合成dataset\n",
    "\n",
    "    return data.DataLoader(dataset, batch_size, shuffle=is_train)\n",
    "\n",
    "\n",
    "batch_size = 10\n",
    "data_iter = load_array((features, labels), batch_size)\n",
    "\n",
    "# 使用`iter`函数将数据迭代器转换为迭代器对象，并使用`next`函数获取迭代器中的下一个批次的数据\n",
    "# 这里`data_iter`是一个数据迭代器，每次调用`next`函数，都会返回一个包含特征和标签的批次数据。\n",
    "next(iter(data_iter))"
   ]
  },
  {
   "cell_type": "markdown",
   "metadata": {},
   "source": [
    "`nn.Sequential`类是PyTorch中的一个**容器类，用于构建序列化的神经网络模型。它可以按照顺序组合多个神经网络层，从而构成一个简单的前向神经网络**。\n",
    "\n",
    "在深度学习中，神经网络通常由多个层组成，例如全连接层、卷积层、池化层等。使用`nn.Sequential`可以将这些层按照顺序组合在一起，形成一个神经网络模型。每个层都是`nn.Module`的子类，因此可以直接添加到`nn.Sequential`中。\n",
    "\n",
    "创建`nn.Sequential`对象时，**只需要在构造函数中按照顺序传入各个层即可**。例如：\n",
    "\n",
    "```python\n",
    "from torch import nn\n",
    "\n",
    "# 定义一个简单的神经网络模型，包含两个全连接层\n",
    "net = nn.Sequential(\n",
    "    nn.Linear(784, 256),\n",
    "    nn.ReLU(),\n",
    "    nn.Linear(256, 10)\n",
    ")\n",
    "```\n",
    "\n",
    "上述代码中，`net`是一个包含两个全连接层的神经网络模型。第一个全连接层的输入维度是784，输出维度是256；然后通过ReLU激活函数进行非线性变换；最后的第二个全连接层的输入维度是256，输出维度是10，用于分类任务的输出。\n",
    "\n",
    "使用`nn.Sequential`的好处是它简化了神经网络的构建过程，将多个层按照顺序组合在一起，更易于阅读和维护。但**需要注意的是**，`nn.Sequential`适用于顺序式的神经网络，不适用于包含分支或跳跃连接等复杂结构的模型。对于复杂的神经网络，可以通过继承`nn.Module`基类，手动定义前向传播函数，实现更灵活的模型构建。"
   ]
  },
  {
   "cell_type": "code",
   "execution_count": 25,
   "metadata": {},
   "outputs": [],
   "source": [
    "# 使用框架的预定义好的层\n",
    "# `nn`是神经网络的缩写\n",
    "from torch import nn\n",
    "\n",
    "# `nn.Linear(2, 1)`表示在输入特征维度为2的情况下，使用线性层（全连接层）构建一个输出维度为1的神经网络。\n",
    "# 即输入特征经过这一层后，输出一个标量结果。\n",
    "net = nn.Sequential(nn.Linear(2, 1))"
   ]
  },
  {
   "cell_type": "code",
   "execution_count": 26,
   "metadata": {},
   "outputs": [
    {
     "data": {
      "text/plain": [
       "tensor([0.])"
      ]
     },
     "execution_count": 26,
     "metadata": {},
     "output_type": "execute_result"
    }
   ],
   "source": [
    "# 初始化模型参数\n",
    "\n",
    "# `net[0].weight.data.normal_(0, 0.01)`: 对神经网络的第一个层（即线性层）的权重进行初始化。\n",
    "# `net[0]`表示`net`中的第一个层，即线性层。`.weight`表示该层的权重张量，`.data`表示获取权重张量的数据部分。\n",
    "# `.normal_(0, 0.01)`是一个操作函数，用于将权重张量初始化为来自均值为0，标准差为0.01的正态分布的随机数。\n",
    "# 这样的初始化有助于在训练过程中更快地收敛。\n",
    "net[0].weight.data.normal_(0, 0.01)  # type: ignore\n",
    "\n",
    "# `net[0].bias.data.fill_(0)`: 对神经网络的第一个层（即线性层）的偏置进行初始化。\n",
    "# `net[0]`表示`net`中的第一个层，即线性层。`.bias`表示该层的偏置张量，`.data`表示获取偏置张量的数据部分。\n",
    "# `.fill_(0)`是一个操作函数，用于将偏置张量的所有元素初始化为0。\n",
    "# 这样的初始化可以帮助模型在训练过程中更快地拟合数据。\n",
    "net[0].bias.data.fill_(0)  # type: ignore"
   ]
  },
  {
   "cell_type": "code",
   "execution_count": 27,
   "metadata": {},
   "outputs": [],
   "source": [
    "# 计算均方误差使用的是`MSELoss`类，也称为平方$L_2$范数。默认情况下，它返回所有样本损失的平均值。\n",
    "loss = nn.MSELoss()"
   ]
  },
  {
   "cell_type": "code",
   "execution_count": 28,
   "metadata": {},
   "outputs": [],
   "source": [
    "# 实例化`SGD`实例\n",
    "trainer = torch.optim.SGD(net.parameters(), lr=0.03)"
   ]
  },
  {
   "cell_type": "code",
   "execution_count": 29,
   "metadata": {},
   "outputs": [
    {
     "name": "stdout",
     "output_type": "stream",
     "text": [
      "epoch 1, loss 0.000250\n",
      "epoch 2, loss 0.000100\n",
      "epoch 3, loss 0.000099\n"
     ]
    }
   ],
   "source": [
    "# 训练过程代码与从零开始实现时所做的非常相似\n",
    "num_epochs = 3\n",
    "for epoch in range(num_epochs):\n",
    "    for X, y in data_iter:\n",
    "        l = loss(net(X), y)\n",
    "        trainer.zero_grad() # 梯度清零\n",
    "        l.backward()\n",
    "        trainer.step()\n",
    "    l = loss(net(features), labels)\n",
    "    print(f'epoch {epoch + 1}, loss {l:f}')"
   ]
  }
 ],
 "metadata": {
  "kernelspec": {
   "display_name": "d2l",
   "language": "python",
   "name": "python3"
  },
  "language_info": {
   "codemirror_mode": {
    "name": "ipython",
    "version": 3
   },
   "file_extension": ".py",
   "mimetype": "text/x-python",
   "name": "python",
   "nbconvert_exporter": "python",
   "pygments_lexer": "ipython3",
   "version": "3.9.17"
  },
  "orig_nbformat": 4
 },
 "nbformat": 4,
 "nbformat_minor": 2
}
