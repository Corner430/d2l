{
 "cells": [
  {
   "cell_type": "markdown",
   "metadata": {},
   "source": [
    "[牛仔行头检测](https://www.bilibili.com/video/BV1F64y1x7xP/?spm_id_from=333.788.recommend_more_video.1&vd_source=2dd00fcea46a9c5a26706a99eb12ea3f)"
   ]
  }
 ],
 "metadata": {
  "language_info": {
   "name": "python"
  }
 },
 "nbformat": 4,
 "nbformat_minor": 2
}
