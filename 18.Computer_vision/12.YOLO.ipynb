{
 "cells": [
  {
   "cell_type": "markdown",
   "metadata": {},
   "source": [
    "### **YOLO(You only look once)**\n",
    "- SSD 中锚框大量重叠，因此浪费了很多计算\n",
    "- YOLO 将图片均匀分成 $S \\times S$ 个锚框\n",
    "- **每个锚框预测 $B$ 个边缘框**\n",
    "- 后续版本（V2, V3, V4 ...）有持续改进"
   ]
  },
  {
   "cell_type": "markdown",
   "metadata": {},
   "source": [
    "[yolov5](https://github.com/ultralytics/yolov5/blob/master/README.zh-CN.md)"
   ]
  },
  {
   "cell_type": "markdown",
   "metadata": {},
   "source": [
    "-------------------------------------------\n",
    "\n",
    "## Q&A\n",
    "- 高精度图中的小物体识别"
   ]
  }
 ],
 "metadata": {
  "language_info": {
   "name": "python"
  },
  "orig_nbformat": 4
 },
 "nbformat": 4,
 "nbformat_minor": 2
}
