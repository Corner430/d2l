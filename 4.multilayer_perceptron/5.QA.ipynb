{
 "cells": [
  {
   "cell_type": "markdown",
   "metadata": {},
   "source": [
    "- 为什么玩深度学习，而不是玩广度学习？也就是为什么要增加隐藏层的层数，而不是增加隐藏层的节点数？\n",
    "\n",
    "因为广度学习很容易过拟合。可以理解为，一次性并行地协调所有的参数去做好一件事，很容易出错。而深度学习，是一层一层的调整参数，每一层都是一个小的模型，这样就不容易出错。"
   ]
  },
  {
   "cell_type": "markdown",
   "metadata": {},
   "source": [
    "- ReLU是非线性函数"
   ]
  },
  {
   "cell_type": "markdown",
   "metadata": {},
   "source": [
    "- 相对而言，激活函数并不是很重要"
   ]
  }
 ],
 "metadata": {
  "language_info": {
   "name": "python"
  },
  "orig_nbformat": 4
 },
 "nbformat": 4,
 "nbformat_minor": 2
}
