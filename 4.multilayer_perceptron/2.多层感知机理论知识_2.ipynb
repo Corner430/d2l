{
 "cells": [
  {
   "cell_type": "markdown",
   "metadata": {},
   "source": [
    "### 多类分类\n",
    "$$y_1, y_2, ..., y_k = softmax(o_1, o_2, ..., o_k)$$\n",
    "\n",
    "- 输入 $\\mathbf{x} \\in \\mathbb{R}^n$\n",
    "- 隐藏层 $W_1 \\in \\mathbb{R}^{m \\times n}$, $b_1 \\in \\mathbb{R}^m$\n",
    "- 输出层 $W_2 \\in \\mathbb{R}^{m \\times k}$, $b_2 \\in \\mathbb{R}^k$\n",
    "$$h = \\sigma(W_1x + b_1)$$\n",
    "$$o = W_2^Th + b_2$$\n",
    "$$y = softmax(o)$$"
   ]
  },
  {
   "cell_type": "markdown",
   "metadata": {},
   "source": [
    "### 多隐藏层\n",
    "$$h_1 = \\sigma(W_1x + b_1)$$\n",
    "$$h_2 = \\sigma(W_2h_1 + b_2)$$\n",
    "$$h_3 = \\sigma(W_3h_2 + b_3)$$\n",
    "$$o = W_4h_3 + b_4$$\n",
    "\n",
    "超参数\n",
    "- 隐藏层数\n",
    "- 每层隐藏层的大小"
   ]
  }
 ],
 "metadata": {
  "language_info": {
   "name": "python"
  },
  "orig_nbformat": 4
 },
 "nbformat": 4,
 "nbformat_minor": 2
}
