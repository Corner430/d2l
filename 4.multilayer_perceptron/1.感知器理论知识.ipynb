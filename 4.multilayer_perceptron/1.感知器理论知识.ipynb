{
 "cells": [
  {
   "cell_type": "markdown",
   "metadata": {},
   "source": [
    "### 感知机\n",
    "- 给定输入**x**，权重**w**，和偏移**b**，感知机输出：\n",
    "$$o = \\sigma(<w,x>+b) \\qquad \\sigma(x) = \\begin{cases}\n",
    "    1, & \\text{if } x > 0 \\\\\n",
    "    -1, & \\text{otherwise }\n",
    "\\end{cases}$$\n",
    "- 二分类：-1 或 1\n",
    "  - Vs. 回归输出实数\n",
    "  - Vs. softmax回归输出概率 "
   ]
  },
  {
   "cell_type": "markdown",
   "metadata": {},
   "source": [
    "### 训练感知机\n",
    "Initialize $w = 0$ and $b = 0$\n",
    "\n",
    "**Repeat**\n",
    "\n",
    "$$\n",
    "    \\text{If } y_i(w \\cdot x_i + b) \\leq 0 \\text{ then}\n",
    "$$\n",
    "\n",
    "\n",
    "$$\n",
    "    \\quad w \\leftarrow w + y_i \\cdot x_i \\quad \\text{and} \\quad b \\leftarrow b + y_i\n",
    "$$\n",
    "\n",
    "$$\n",
    "    \\text{End If}\n",
    "$$\n",
    "\n",
    "**Until** all classified correctly\n",
    "\n",
    "等价于使用批量大小为1的梯度下降，并使用如下的损失函数：\n",
    "$$\\mathcal{l}(y, \\mathbf{x}, \\mathbf{w}) = \\max(0, -y<w , x>)$$\n",
    "> 之所以使用**max**函数，是因为当$y<w , x> \\geq 0$时，损失函数为0，此时不用算梯度；当$y<w , x> < 0$时，损失函数为$-y<w , x>$，此时梯度为$-yx$。"
   ]
  },
  {
   "cell_type": "markdown",
   "metadata": {},
   "source": [
    "### 收敛定理\n",
    "- 如果满足：\n",
    "  - 数据在半径 **r** 内\n",
    "  - 余量 $\\rho$ 分类两类\n",
    "  $$y(x^T w + b) \\geq \\rho$$\n",
    "  $$\\text{对于}\\ ||w||^2 + b^2 \\leq 1$$\n",
    "- 则有感知机保证在$\\frac{r^2+1}{\\rho^2}$步后收敛\n",
    "> 理解：如果 **r** 很大，也就是说数据很多，那么感知机收敛的步数就很多，也就是说感知机的收敛速度和**数据的多少**有关系；如果余量 $\\rho$ 很大，也就是说数据很好分，那么感知机收敛的步数就很少，也就是说感知机的收敛速度和**数据的好坏**有关系。"
   ]
  },
  {
   "cell_type": "markdown",
   "metadata": {},
   "source": [
    "### XOR 问题 （Minsky & Papert，1969）\n",
    "**感知机不能拟合XOR问题，它只能产生线性分割面**"
   ]
  },
  {
   "cell_type": "markdown",
   "metadata": {},
   "source": [
    "### 总结\n",
    "- 感知机是一个二分类模型，是最早的AI模型之一\n",
    "- 它的求解算法等价于使用批量大小为 1 的梯度下降\n",
    "- 它不能拟合 XOR 函数，导致的第一次AI寒冬"
   ]
  }
 ],
 "metadata": {
  "language_info": {
   "name": "python"
  },
  "orig_nbformat": 4
 },
 "nbformat": 4,
 "nbformat_minor": 2
}
