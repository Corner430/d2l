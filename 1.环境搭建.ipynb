{
 "cells": [
  {
   "cell_type": "markdown",
   "metadata": {},
   "source": [
    "- 创建环境: `conda create --name d2l python=3.9`\n",
    "\n",
    "- 安装需要的包\n",
    "`pip install torch==1.12.0`\n",
    "`pip install torchvision==0.13.0`\n",
    "\n",
    "- 安装d2l包: `pip install d2l==0.17.6`\n",
    "\n",
    "- 安装D2L Notebook\n",
    "```bash\n",
    "mkdir d2l-zh && cd d2l-zh\n",
    "curl https://zh-v2.d2l.ai/d2l-zh-2.0.0.zip -o d2l-zh.zip\n",
    "unzip d2l-zh.zip && rm d2l-zh.zip\n",
    "cd pytorch\n",
    "```\n",
    "\n",
    "- 使用jupyter打开: `jupyter notebook`\n"
   ]
  },
  {
   "cell_type": "markdown",
   "metadata": {},
   "source": []
  },
  {
   "cell_type": "code",
   "execution_count": null,
   "metadata": {},
   "outputs": [],
   "source": []
  }
 ],
 "metadata": {
  "kernelspec": {
   "display_name": "d2l",
   "language": "python",
   "name": "python3"
  },
  "language_info": {
   "codemirror_mode": {
    "name": "ipython",
    "version": 3
   },
   "file_extension": ".py",
   "mimetype": "text/x-python",
   "name": "python",
   "nbconvert_exporter": "python",
   "pygments_lexer": "ipython3",
   "version": "3.9.17"
  },
  "orig_nbformat": 4
 },
 "nbformat": 4,
 "nbformat_minor": 2
}
