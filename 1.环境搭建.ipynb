{
 "cells": [
  {
   "cell_type": "markdown",
   "metadata": {},
   "source": [
    "- 创建环境: `conda create --name d2l python=3.9`\n",
    "\n",
    "- 安装需要的包\n",
    "  - `pip install torch==1.12.0`\n",
    "  - `pip install torchvision==0.13.0`\n",
    "\n",
    "- 安装d2l包: `pip install d2l==0.17.6`\n",
    "\n",
    "- 安装D2L Notebook\n",
    "```bash\n",
    "mkdir d2l-zh && cd d2l-zh\n",
    "curl https://zh-v2.d2l.ai/d2l-zh-2.0.0.zip -o d2l-zh.zip\n",
    "unzip d2l-zh.zip && rm d2l-zh.zip\n",
    "cd pytorch\n",
    "```\n",
    "\n",
    "- 安装ipynb幻灯片插件: `pip install rise`\n",
    "\n",
    "- 使用jupyter打开: `jupyter notebook`\n"
   ]
  },
  {
   "cell_type": "markdown",
   "metadata": {},
   "source": [
    "------------------------------------\n",
    "\n",
    "学习预测不互相排斥的类别的问题称为**多标签分类(multi-label classification)**\n",
    "\n",
    "-------------------------------------"
   ]
  },
  {
   "cell_type": "markdown",
   "metadata": {},
   "source": [
    "```\n",
    "ssh -L 8888:localhost:8888 user@server\n",
    "```\n",
    "\n",
    "- `ssh`: 这是SSH客户端程序的命令。它用于建立与远程服务器的安全连接。\n",
    "\n",
    "- `-L 8888:localhost:8888`: 这是SSH隧道的设置。通过这个参数，SSH将会在本地主机（即你的计算机）的端口8888上监听任何传入的连接，并将这些连接转发到远程服务器的localhost（即远程服务器本地回环地址127.0.0.1）的端口8888上。换句话说，当你的计算机上有数据通过本地端口8888发送时，这些数据将会通过SSH隧道发送到远程服务器的8888端口。\n",
    "\n",
    "- `user`: 这是远程服务器上的用户名，用于登录到远程服务器。\n",
    "\n",
    "- `server`: 这是远程服务器的主机名或IP地址，即你希望连接的目标服务器。\n",
    "\n",
    "总结起来，这个命令的目的是在本地计算机上通过SSH隧道连接到远程服务器，并将本地端口8888与远程服务器的端口8888进行转发。这种设置通常用于在本地计算机上访问远程服务器上运行的应用程序或服务，同时保持数据传输的安全性。例如，你可以通过访问`localhost:8888`来实际访问远程服务器上运行的服务，而这些数据将通过SSH安全地传输。"
   ]
  }
 ],
 "metadata": {
  "kernelspec": {
   "display_name": "d2l",
   "language": "python",
   "name": "python3"
  },
  "language_info": {
   "codemirror_mode": {
    "name": "ipython",
    "version": 3
   },
   "file_extension": ".py",
   "mimetype": "text/x-python",
   "name": "python",
   "nbconvert_exporter": "python",
   "pygments_lexer": "ipython3",
   "version": "3.9.17"
  },
  "orig_nbformat": 4
 },
 "nbformat": 4,
 "nbformat_minor": 2
}
