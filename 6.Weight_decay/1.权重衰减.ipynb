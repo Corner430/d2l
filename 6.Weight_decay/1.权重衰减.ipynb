{
 "cells": [
  {
   "cell_type": "markdown",
   "metadata": {},
   "source": [
    "### 权重衰减"
   ]
  },
  {
   "cell_type": "markdown",
   "metadata": {},
   "source": [
    "### 扰动的稳健性\n",
    "- **经典泛化理论认为，为了缩小训练性能和测试性能之间的差距，应该以简单的模型为目标**。"
   ]
  },
  {
   "cell_type": "markdown",
   "metadata": {},
   "source": [
    "### 使用均方范数作为硬性限制\n",
    "- 通过限制**参数值的选择范围**来控制模型容量\n",
    "$$\\text{min} \\quad \\mathcal{l}(\\mathbf{w}, b) \\quad \\textbf{subject to} \\quad \\|\\mathbf{w}\\|^2 \\leq \\theta$$\n",
    "- 通常不限制偏移 b （限不限制都差不多）\n",
    "- 小的 $\\theta$ 意味着更强的正则项（也就是更强的限制）"
   ]
  },
  {
   "cell_type": "markdown",
   "metadata": {},
   "source": [
    "### 使用均方范数作为柔性限制\n",
    "- 对每个$\\theta$，**都可以找到$\\lambda$使得**之前的目标函数**等价**于下面\n",
    "$$\\text{min} \\quad L(\\mathbf{w}, b) + \\frac{\\lambda}{2} \\|\\mathbf{w}\\|^2,$$\n",
    "- 可以通过拉格朗日乘子来证明\n",
    "- 超参数$\\lambda$控制了正则项的重要程度\n",
    "  - $\\lambda=0$：无作用\n",
    "  - $\\lambda \\rightarrow \\infty, w^* \\rightarrow 0$"
   ]
  },
  {
   "cell_type": "markdown",
   "metadata": {},
   "source": [
    "### [演示对最优解的影响](https://www.bilibili.com/video/BV1UK4y1o7dy/?share_source=copy_web&vd_source=a7ae9163cb2cd121bfd86ea1f4ecd2ef&t=337)\n",
    "\n",
    "![20230807223102](https://cdn.jsdelivr.net/gh/Corner430/Picture1/images/20230807223102.png)"
   ]
  },
  {
   "cell_type": "markdown",
   "metadata": {},
   "source": [
    "### 参数更新法则\n",
    "- 计算梯度\n",
    "$$\\frac{\\partial}{\\partial \\mathbf{w}} \\bigg(L(\\mathbf{w}, b) + \\frac{\\lambda}{2} \\|\\mathbf{w}\\|^2 \\bigg) = \\frac{\\partial L(\\mathbf{w}, b)}{\\partial \\mathbf{w}} \\quad  + \\lambda \\mathbf{w}$$\n",
    "\n",
    "- 时间 t 更新参数\n",
    "$$\\mathbf{w}_{t+1} = (1 - \\eta\\lambda)w_t - \\eta \\frac{\\partial L(\\mathbf{w}_t, b_t)}{\\partial \\mathbf{w}_t}$$\n",
    "- **通常$\\eta \\lambda < 1$**，在深度学习中通常叫做**权重衰退**"
   ]
  },
  {
   "cell_type": "markdown",
   "metadata": {},
   "source": [
    "### 总结\n",
    "- 权重衰退通过$L_2$正则项使得模型参数不会过大，从而控制模型复杂度\n",
    "- 正则项权重是控制模型复杂度的超参数"
   ]
  }
 ],
 "metadata": {
  "language_info": {
   "name": "python"
  },
  "orig_nbformat": 4
 },
 "nbformat": 4,
 "nbformat_minor": 2
}
